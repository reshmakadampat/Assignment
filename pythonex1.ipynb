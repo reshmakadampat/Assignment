{
  "nbformat": 4,
  "nbformat_minor": 0,
  "metadata": {
    "colab": {
      "provenance": []
    },
    "kernelspec": {
      "name": "python3",
      "display_name": "Python 3"
    },
    "language_info": {
      "name": "python"
    }
  },
  "cells": [
    {
      "cell_type": "markdown",
      "source": [
        "Activity 1"
      ],
      "metadata": {
        "id": "lX-wJtZ498kv"
      }
    },
    {
      "cell_type": "code",
      "execution_count": null,
      "metadata": {
        "colab": {
          "base_uri": "https://localhost:8080/"
        },
        "id": "Ps-FLzNi9Rmm",
        "outputId": "485e7293-d8b1-4e86-c185-76a56d41aceb"
      },
      "outputs": [
        {
          "output_type": "stream",
          "name": "stdout",
          "text": [
            "Enter the radius 3\n",
            "Area of the circle is: 28.27431\n"
          ]
        }
      ],
      "source": [
        "def circle_area (radius):\n",
        "    pi = 3.14159\n",
        "    area = pi * radius ** 2\n",
        "    return area\n",
        "n1=int(input('Enter the radius '))\n",
        "a = circle_area(n1)\n",
        "print(\"Area of the circle is:\", a)"
      ]
    },
    {
      "cell_type": "markdown",
      "source": [
        "Activity 2"
      ],
      "metadata": {
        "id": "eX3y4A3Z-uDP"
      }
    },
    {
      "cell_type": "code",
      "source": [
        "name=input('Enter the name: ')\n",
        "roll_no=int(input('Enter the roll number: '))\n",
        "mark=int(input('Enter the mark: '))\n",
        "print(f\"Name:{name}\\nRoll No: {roll_no}\\nMark: {mark}\")"
      ],
      "metadata": {
        "colab": {
          "base_uri": "https://localhost:8080/"
        },
        "id": "ixvebjUf-wQu",
        "outputId": "c3c71cff-4bf0-42b8-e182-2f70e21ac9af"
      },
      "execution_count": null,
      "outputs": [
        {
          "output_type": "stream",
          "name": "stdout",
          "text": [
            "Enter the name: Abruti Ymira\n",
            "Enter the roll number: 1\n",
            "Enter the mark: 89\n",
            "Name:Abruti Ymira\n",
            "Roll No: 1\n",
            "Mark: 89\n"
          ]
        }
      ]
    },
    {
      "cell_type": "markdown",
      "source": [
        "Activity 3"
      ],
      "metadata": {
        "id": "phDx_ALLAbap"
      }
    },
    {
      "cell_type": "code",
      "source": [
        "def largest(num):\n",
        "     largest = num[0]\n",
        "     for n in num:\n",
        "        if n > largest:\n",
        "            largest = n\n",
        "     return largest\n",
        "s=int(input('What is the size of list '))\n",
        "d=[]\n",
        "su=0\n",
        "for i in range(s):\n",
        "  num=int(input('Number= '))\n",
        "  d.append(num)\n",
        "print(d)\n",
        "l=largest(d)\n",
        "print(f'{l} is the largest number')"
      ],
      "metadata": {
        "colab": {
          "base_uri": "https://localhost:8080/"
        },
        "id": "2Ba2NOHG_mMe",
        "outputId": "a59bdef6-64ea-4dc0-e047-d81d28bdff0c"
      },
      "execution_count": 14,
      "outputs": [
        {
          "output_type": "stream",
          "name": "stdout",
          "text": [
            "What is the size of list 4\n",
            "Number= 3\n",
            "Number= 55\n",
            "Number= 68\n",
            "Number= 4\n",
            "[3, 55, 68, 4]\n",
            "68 is the largest number\n"
          ]
        }
      ]
    },
    {
      "cell_type": "markdown",
      "source": [
        "Activity 4"
      ],
      "metadata": {
        "id": "zD2mayFsJr-B"
      }
    },
    {
      "cell_type": "code",
      "source": [
        "def sum(f,l):\n",
        "    num1 = f -1\n",
        "    for num2 in range(f, l +1):\n",
        "        sum = num2 + num1\n",
        "        print(f\"Current Number {num2} Previous Number {num1} Sum: {sum}\")\n",
        "        num1 = num2\n",
        "first=int(input('First number= '))\n",
        "end=int(input('Last number= '))\n",
        "sum(first,end)"
      ],
      "metadata": {
        "id": "ozbsrXsRBTt7",
        "colab": {
          "base_uri": "https://localhost:8080/"
        },
        "outputId": "3f38897c-ee11-4716-d6d6-d2e59a4cb5f1"
      },
      "execution_count": 21,
      "outputs": [
        {
          "output_type": "stream",
          "name": "stdout",
          "text": [
            "First number= 3\n",
            "Last number= 9\n",
            "Current Number 3 Previous Number 2 Sum: 5\n",
            "Current Number 4 Previous Number 3 Sum: 7\n",
            "Current Number 5 Previous Number 4 Sum: 9\n",
            "Current Number 6 Previous Number 5 Sum: 11\n",
            "Current Number 7 Previous Number 6 Sum: 13\n",
            "Current Number 8 Previous Number 7 Sum: 15\n",
            "Current Number 9 Previous Number 8 Sum: 17\n"
          ]
        }
      ]
    },
    {
      "cell_type": "markdown",
      "source": [
        "Activity 5"
      ],
      "metadata": {
        "id": "U6jXwgCZM0oG"
      }
    },
    {
      "cell_type": "code",
      "source": [
        "def div(s,e):\n",
        " for i in range(s,e+1):\n",
        "  if(i%5==0):\n",
        "    print(i,end=\" \")\n",
        "s=int(input('What is the starting range '))\n",
        "e=int(input('What is the ending range '))\n",
        "div(s,e)"
      ],
      "metadata": {
        "colab": {
          "base_uri": "https://localhost:8080/"
        },
        "id": "qpjCd9EYM2KJ",
        "outputId": "b957b560-c163-4d09-c1ce-09dfeb142d7d"
      },
      "execution_count": 39,
      "outputs": [
        {
          "output_type": "stream",
          "name": "stdout",
          "text": [
            "What is the starting range 5\n",
            "What is the ending range 55\n",
            "5 10 15 20 25 30 35 40 45 50 55 "
          ]
        }
      ]
    },
    {
      "cell_type": "markdown",
      "source": [
        "Activity 6"
      ],
      "metadata": {
        "id": "6l1SvkNtNHJ7"
      }
    },
    {
      "cell_type": "code",
      "source": [
        "prime=int(input('Enter a number '))\n",
        "def prm(p):\n",
        " for i in range(2,p):\n",
        "   if(p%i==0):\n",
        "    return print(f'{p} is not a prime')\n",
        "    break\n",
        " else:\n",
        "  return print(f'{p} is a prime')\n",
        "prm(prime)"
      ],
      "metadata": {
        "colab": {
          "base_uri": "https://localhost:8080/"
        },
        "id": "-f2KwUDJNIzF",
        "outputId": "5dbf78b7-73ac-4b91-d5b0-ed072b63c33e"
      },
      "execution_count": 22,
      "outputs": [
        {
          "output_type": "stream",
          "name": "stdout",
          "text": [
            "Enter a number 5\n",
            "5 is a prime\n"
          ]
        }
      ]
    },
    {
      "cell_type": "markdown",
      "source": [
        "Activity 7"
      ],
      "metadata": {
        "id": "7MO8XLIJNoyM"
      }
    },
    {
      "cell_type": "code",
      "source": [
        "def reverse(list1):\n",
        "    rlist = []\n",
        "    l=len(list1)\n",
        "    for i in range(l-1,-1, -1):\n",
        "        rlist.append(list1[i])\n",
        "    return rlist\n",
        "s=int(input('What is the size of list '))\n",
        "list1=[]\n",
        "su=0\n",
        "for i in range(s):\n",
        "  num=int(input('Number= '))\n",
        "  list1.append(num)\n",
        "list2 = reverse(list1)\n",
        "print(\"Original List:\", list1)\n",
        "print(\"Reversed List:\", list2)\n"
      ],
      "metadata": {
        "colab": {
          "base_uri": "https://localhost:8080/"
        },
        "id": "MIeld1rVNrN6",
        "outputId": "e447f359-89e0-46a8-e0b9-14fd3a838fc0"
      },
      "execution_count": 30,
      "outputs": [
        {
          "output_type": "stream",
          "name": "stdout",
          "text": [
            "What is the size of list 4\n",
            "Number= 4\n",
            "Number= 8\n",
            "Number= 0\n",
            "Number= 7\n",
            "Original List: [4, 8, 0, 7]\n",
            "Reversed List: [7, 0, 8, 4]\n"
          ]
        }
      ]
    },
    {
      "cell_type": "markdown",
      "source": [
        "Activity 8"
      ],
      "metadata": {
        "id": "upgWdwOCQIN3"
      }
    },
    {
      "cell_type": "code",
      "source": [
        "def pattern(row):\n",
        "    for i in range(1, row + 1):\n",
        "        for j in range(1, i + 1):\n",
        "            print('*', end='')\n",
        "        print('\\n')\n",
        "pattern(4)\n"
      ],
      "metadata": {
        "colab": {
          "base_uri": "https://localhost:8080/"
        },
        "id": "wrkw-gR2QLCZ",
        "outputId": "f6cf21a7-beb9-41b1-e080-8c9992898a8e"
      },
      "execution_count": 33,
      "outputs": [
        {
          "output_type": "stream",
          "name": "stdout",
          "text": [
            "*\n",
            "\n",
            "**\n",
            "\n",
            "***\n",
            "\n",
            "****\n",
            "\n"
          ]
        }
      ]
    },
    {
      "cell_type": "markdown",
      "source": [
        "Activity 9"
      ],
      "metadata": {
        "id": "IwRfGj43Qgaa"
      }
    },
    {
      "cell_type": "code",
      "source": [
        "def maximum(num1, num2, num3):\n",
        "    result = max(num1, num2, num3)\n",
        "    return result\n",
        "n1=int(input('Enter a number '))\n",
        "n2=int(input('Enter a number '))\n",
        "n3=int(input('Enter a number '))\n",
        "m = maximum(n1, n2, n3)\n",
        "print(\"Maximum number is:\", m)"
      ],
      "metadata": {
        "colab": {
          "base_uri": "https://localhost:8080/"
        },
        "id": "8IIAGs-9QjNL",
        "outputId": "f63d5f5f-51db-4b47-e49c-49ac071905ca"
      },
      "execution_count": 34,
      "outputs": [
        {
          "output_type": "stream",
          "name": "stdout",
          "text": [
            "Enter a number 67\n",
            "Enter a number 4\n",
            "Enter a number 90\n",
            "Maximum number is: 90\n"
          ]
        }
      ]
    },
    {
      "cell_type": "markdown",
      "source": [
        "Activity 10"
      ],
      "metadata": {
        "id": "d_d5rmpYRDkz"
      }
    },
    {
      "cell_type": "code",
      "source": [
        "def pattern(row):\n",
        "    for i in range(1, row + 1):\n",
        "        for j in range(1, i + 1):\n",
        "            print('*', end='')\n",
        "        print('\\n')\n",
        "    for i in range(row - 1, 0, -1):\n",
        "        for j in range(1, i + 1):\n",
        "            print('*', end='')\n",
        "        print('\\n')\n",
        "pattern(5)"
      ],
      "metadata": {
        "colab": {
          "base_uri": "https://localhost:8080/"
        },
        "id": "XMmEj7R5Q_G3",
        "outputId": "af6ef037-fe9e-49df-d5ea-f9d71b83c567"
      },
      "execution_count": 35,
      "outputs": [
        {
          "output_type": "stream",
          "name": "stdout",
          "text": [
            "*\n",
            "\n",
            "**\n",
            "\n",
            "***\n",
            "\n",
            "****\n",
            "\n",
            "*****\n",
            "\n",
            "****\n",
            "\n",
            "***\n",
            "\n",
            "**\n",
            "\n",
            "*\n",
            "\n"
          ]
        }
      ]
    }
  ]
}